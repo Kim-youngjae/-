{
 "cells": [
  {
   "cell_type": "code",
   "execution_count": 30,
   "id": "contemporary-corner",
   "metadata": {},
   "outputs": [
    {
     "name": "stdout",
     "output_type": "stream",
     "text": [
      "3\n",
      "7\n",
      "1 3\n",
      "1 2\n",
      "3 2\n",
      "1 3\n",
      "2 1\n",
      "2 3\n",
      "1 3\n"
     ]
    }
   ],
   "source": [
    "cases = []\n",
    "\n",
    "def hanoi(n, A, B, C):\n",
    "    if n == 1:\n",
    "        cases.append([A, C])\n",
    "    else:\n",
    "        hanoi(n-1, A, C, B)\n",
    "        cases.append([A, C])\n",
    "        hanoi(n-1, B, A, C)\n",
    "        \n",
    "N = int(input())\n",
    "hanoi(N, 1, 2, 3)\n",
    "print(len(cases))\n",
    "for i in range(len(cases)):\n",
    "    print(cases[i][0], cases[i][1])"
   ]
  }
 ],
 "metadata": {
  "kernelspec": {
   "display_name": "Python 3",
   "language": "python",
   "name": "python3"
  },
  "language_info": {
   "codemirror_mode": {
    "name": "ipython",
    "version": 3
   },
   "file_extension": ".py",
   "mimetype": "text/x-python",
   "name": "python",
   "nbconvert_exporter": "python",
   "pygments_lexer": "ipython3",
   "version": "3.8.5"
  }
 },
 "nbformat": 4,
 "nbformat_minor": 5
}
