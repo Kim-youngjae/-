{
 "cells": [
  {
   "cell_type": "code",
   "execution_count": 49,
   "id": "identified-corpus",
   "metadata": {
    "scrolled": true
   },
   "outputs": [
    {
     "name": "stdout",
     "output_type": "stream",
     "text": [
      "5\n",
      "-1\n",
      "-2\n",
      "-3\n",
      "-1\n",
      "-2\n",
      "-2\n",
      "-2\n",
      "-1\n",
      "2\n"
     ]
    }
   ],
   "source": [
    "import sys\n",
    "\n",
    "def mean(numList):\n",
    "    result = sum(numList) / len(numList)\n",
    "    return round(result)\n",
    "\n",
    "def median(numList):\n",
    "    numList.sort()\n",
    "    return numList[len(numList) // 2]\n",
    "\n",
    "def mode(numList):\n",
    "    number_dict = {}\n",
    "    number_keys = []\n",
    "    for i in numList:\n",
    "        if i in number_dict:\n",
    "            number_dict[i] += 1\n",
    "        else:\n",
    "            number_dict[i] = 1\n",
    "    \n",
    "    for i in number_dict.keys():\n",
    "        if number_dict[i] == max(number_dict.values()):\n",
    "            number_keys.append(i)\n",
    "    number_keys.sort()\n",
    "    if len(number_keys) > 1:\n",
    "        return number_keys[1]\n",
    "    else:\n",
    "        return number_keys[0]\n",
    "\n",
    "def num_range(numList):\n",
    "    return max(numList) - min(numList)\n",
    "\n",
    "N = int(sys.stdin.readline())\n",
    "numbers = []\n",
    "for i in range(N):\n",
    "    num = int(sys.stdin.readline())\n",
    "    numbers.append(num)\n",
    "    \n",
    "print(mean(numbers))\n",
    "print(median(numbers))\n",
    "print(mode(numbers))\n",
    "print(num_range(numbers))"
   ]
  },
  {
   "cell_type": "code",
   "execution_count": 44,
   "id": "aging-astrology",
   "metadata": {},
   "outputs": [
    {
     "data": {
      "text/plain": [
       "1"
      ]
     },
     "execution_count": 44,
     "metadata": {},
     "output_type": "execute_result"
    }
   ],
   "source": [
    "def mode(numList):\n",
    "    number_dict = {}\n",
    "    number_keys = []\n",
    "    for i in numList:\n",
    "        if i in number_dict:\n",
    "            number_dict[i] += 1\n",
    "        else:\n",
    "            number_dict[i] = 1\n",
    "    for i in number_dict.keys():\n",
    "        if number_dict[i] == max(number_dict.values()):\n",
    "            number_keys.append(i)\n",
    "    number_keys.sort()\n",
    "    return number_keys[1]\n",
    "\n",
    "mode([1, 3, 8, -2, 2])"
   ]
  },
  {
   "cell_type": "code",
   "execution_count": 28,
   "id": "activated-comfort",
   "metadata": {},
   "outputs": [
    {
     "ename": "TypeError",
     "evalue": "'dict_items' object is not subscriptable",
     "output_type": "error",
     "traceback": [
      "\u001b[1;31m---------------------------------------------------------------------------\u001b[0m",
      "\u001b[1;31mTypeError\u001b[0m                                 Traceback (most recent call last)",
      "\u001b[1;32m<ipython-input-28-264d10a10ca5>\u001b[0m in \u001b[0;36m<module>\u001b[1;34m\u001b[0m\n\u001b[0;32m      2\u001b[0m \u001b[1;33m\u001b[0m\u001b[0m\n\u001b[0;32m      3\u001b[0m \u001b[0mx\u001b[0m \u001b[1;33m=\u001b[0m \u001b[0mdic\u001b[0m\u001b[1;33m.\u001b[0m\u001b[0mitems\u001b[0m\u001b[1;33m(\u001b[0m\u001b[1;33m)\u001b[0m\u001b[1;33m\u001b[0m\u001b[1;33m\u001b[0m\u001b[0m\n\u001b[1;32m----> 4\u001b[1;33m \u001b[0mprint\u001b[0m\u001b[1;33m(\u001b[0m\u001b[0mx\u001b[0m\u001b[1;33m[\u001b[0m\u001b[1;36m0\u001b[0m\u001b[1;33m]\u001b[0m\u001b[1;33m)\u001b[0m\u001b[1;33m\u001b[0m\u001b[1;33m\u001b[0m\u001b[0m\n\u001b[0m",
      "\u001b[1;31mTypeError\u001b[0m: 'dict_items' object is not subscriptable"
     ]
    }
   ],
   "source": [
    "dic = {1: 12, 2: 13, 3: 34}\n",
    "\n",
    "x = dic.items()\n",
    "print"
   ]
  },
  {
   "cell_type": "code",
   "execution_count": 52,
   "id": "subject-diagnosis",
   "metadata": {},
   "outputs": [
    {
     "name": "stdout",
     "output_type": "stream",
     "text": [
      "2\n"
     ]
    }
   ],
   "source": [
    "print(round(2.5))"
   ]
  },
  {
   "cell_type": "code",
   "execution_count": null,
   "id": "standard-impossible",
   "metadata": {},
   "outputs": [],
   "source": []
  }
 ],
 "metadata": {
  "kernelspec": {
   "display_name": "Python 3",
   "language": "python",
   "name": "python3"
  },
  "language_info": {
   "codemirror_mode": {
    "name": "ipython",
    "version": 3
   },
   "file_extension": ".py",
   "mimetype": "text/x-python",
   "name": "python",
   "nbconvert_exporter": "python",
   "pygments_lexer": "ipython3",
   "version": "3.8.5"
  }
 },
 "nbformat": 4,
 "nbformat_minor": 5
}
