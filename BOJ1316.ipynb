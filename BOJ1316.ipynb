{
 "cells": [
  {
   "cell_type": "markdown",
   "id": "regulated-rugby",
   "metadata": {},
   "source": [
    "- 그룹 단어란 단어에 존재하는 모든 문자에 대해서, 각 문자가 연속해서 나타나는 경우만을 말한다. 예를 들면, ccazzzzbb는 c, a, z, b가 모두 연속해서 나타나고, kin도 k, i, n이 연속해서 나타나기 때문에 그룹 단어이지만, aabbbccb는 b가 떨어져서 나타나기 때문에 그룹 단어가 아니다.\n",
    "\n",
    "- 단어 N개를 입력으로 받아 그룹 단어의 개수를 출력하는 프로그램을 작성하시오."
   ]
  },
  {
   "cell_type": "code",
   "execution_count": 19,
   "id": "reflected-movie",
   "metadata": {
    "scrolled": true
   },
   "outputs": [
    {
     "name": "stdout",
     "output_type": "stream",
     "text": [
      "단어갯수 입력:4\n",
      "단어 입력:aba\n",
      "단어 입력:abab\n",
      "단어 입력:abcabc\n",
      "단어 입력:a\n",
      "1\n"
     ]
    }
   ],
   "source": [
    "def main():\n",
    "    N = int(input())\n",
    "    if N > 100:\n",
    "        return\n",
    "    else:\n",
    "        for i in range(N):\n",
    "            input_word = input()\n",
    "            l = len(input_word)\n",
    "            for j in range(l-1):\n",
    "                if input_word[j] != input_word[j + 1]:\n",
    "                    if input_word[j] in input_word[j+1:]:\n",
    "                        N -= 1\n",
    "                        break\n",
    "        print(N)\n",
    "                    \n",
    "main()"
   ]
  },
  {
   "cell_type": "code",
   "execution_count": null,
   "id": "median-polymer",
   "metadata": {},
   "outputs": [],
   "source": [
    "4\n",
    "aba\n",
    "abab\n",
    "abcabc\n",
    "a"
   ]
  }
 ],
 "metadata": {
  "kernelspec": {
   "display_name": "Python 3",
   "language": "python",
   "name": "python3"
  },
  "language_info": {
   "codemirror_mode": {
    "name": "ipython",
    "version": 3
   },
   "file_extension": ".py",
   "mimetype": "text/x-python",
   "name": "python",
   "nbconvert_exporter": "python",
   "pygments_lexer": "ipython3",
   "version": "3.8.5"
  }
 },
 "nbformat": 4,
 "nbformat_minor": 5
}
