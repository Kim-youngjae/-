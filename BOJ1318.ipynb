{
 "cells": [
  {
   "cell_type": "code",
   "execution_count": 25,
   "id": "native-spencer",
   "metadata": {
    "scrolled": true
   },
   "outputs": [
    {
     "name": "stdout",
     "output_type": "stream",
     "text": [
      "10 13\n",
      "BBBBBBBBWBWBW\n",
      "BBBBBBBBBWBWB\n",
      "BBBBBBBBWBWBW\n",
      "BBBBBBBBBWBWB\n",
      "BBBBBBBBWBWBW\n",
      "BBBBBBBBBWBWB\n",
      "BBBBBBBBWBWBW\n",
      "BBBBBBBBBWBWB\n",
      "WWWWWWWWWWBWB\n",
      "WWWWWWWWWWBWB\n",
      "[2, 2, 2]\n",
      "2\n"
     ]
    }
   ],
   "source": [
    "def make_block(M):\n",
    "    board = []\n",
    "    for i in range(M):\n",
    "        block = input()\n",
    "        board.append(block)\n",
    "    return board\n",
    "    \n",
    "\n",
    "def compare(M, N, board):\n",
    "    count = []\n",
    "    for a in range(M - 7):\n",
    "        for b in range(N - 7):\n",
    "            for i in range(a, a+8):\n",
    "                cnt1 = 0\n",
    "                cnt2 = 0\n",
    "                for j in range(b, b+8):\n",
    "                    if (i+j) % 2 == 0:\n",
    "                        if board[i][j] != \"B\":\n",
    "                            cnt1 += 1\n",
    "                        if board[i][j] != \"W\":\n",
    "                            cnt2 += 1\n",
    "                    else:\n",
    "                        if board[i][j] != \"W\":\n",
    "                            cnt1 += 1\n",
    "                        if board[i][j] != \"B\":\n",
    "                            cnt2 += 1            \n",
    "        if min(cnt1, cnt2) < count[0]\n",
    "            count.append(min(cnt1, cnt2))\n",
    "    print(count)\n",
    "    return count[0]\n",
    "            \n",
    "    \n",
    "M, N = list(map(int, input().split()))\n",
    "b = make_block(M)\n",
    "cnt = compare(M,N,b)\n",
    "print(cnt)"
   ]
  },
  {
   "cell_type": "code",
   "execution_count": null,
   "id": "limited-equivalent",
   "metadata": {},
   "outputs": [],
   "source": []
  }
 ],
 "metadata": {
  "kernelspec": {
   "display_name": "Python 3",
   "language": "python",
   "name": "python3"
  },
  "language_info": {
   "codemirror_mode": {
    "name": "ipython",
    "version": 3
   },
   "file_extension": ".py",
   "mimetype": "text/x-python",
   "name": "python",
   "nbconvert_exporter": "python",
   "pygments_lexer": "ipython3",
   "version": "3.8.5"
  }
 },
 "nbformat": 4,
 "nbformat_minor": 5
}
